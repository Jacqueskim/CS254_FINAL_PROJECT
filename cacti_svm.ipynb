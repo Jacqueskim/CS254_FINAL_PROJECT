{
 "cells": [
  {
   "cell_type": "code",
   "execution_count": null,
   "metadata": {},
   "outputs": [],
   "source": []
  },
  {
   "cell_type": "code",
   "execution_count": 1,
   "metadata": {},
   "outputs": [
    {
     "name": "stdout",
     "output_type": "stream",
     "text": [
      "     Tech node (nm)   Capacity (bytes)   Number of banks   Associativity  \\\n",
      "0                40               2048                 1               1   \n",
      "1                40               2560                 1               1   \n",
      "2                40               3072                 1               1   \n",
      "3                40               3584                 1               1   \n",
      "4                40               4096                 1               1   \n",
      "..              ...                ...               ...             ...   \n",
      "315              40          234881024                 1              16   \n",
      "316              40          268435456                 1              16   \n",
      "317              40          335544320                 1              16   \n",
      "318              40          402653184                 1              16   \n",
      "319              40          469762048                 1              16   \n",
      "\n",
      "      Output width (bits)   Access time (ns)   Random cycle time (ns)  \\\n",
      "0                     512           0.213348                 0.314693   \n",
      "1                     512           0.217878                 0.317513   \n",
      "2                     512           0.222340                 0.320243   \n",
      "3                     512           0.219195                 0.314502   \n",
      "4                     512           0.233535                 0.316659   \n",
      "..                    ...                ...                      ...   \n",
      "315                   512          20.752600                 8.839630   \n",
      "316                   512          22.016100                 9.023660   \n",
      "317                   512          24.652100                 9.405440   \n",
      "318                   512          26.943100                 9.815200   \n",
      "319                   512          28.602100                10.253100   \n",
      "\n",
      "     Dynamic search energy (nJ)   Dynamic read energy (nJ)  \\\n",
      "0                           N/A                   0.021362   \n",
      "1                           N/A                   0.021518   \n",
      "2                           N/A                   0.021675   \n",
      "3                           N/A                   0.021846   \n",
      "4                           N/A                   0.022458   \n",
      "..                          ...                        ...   \n",
      "315                         N/A                   4.965510   \n",
      "316                         N/A                   5.350390   \n",
      "317                         N/A                   6.068100   \n",
      "318                         N/A                   6.848610   \n",
      "319                         N/A                   7.414230   \n",
      "\n",
      "      Dynamic write energy (nJ)  ...   Ndsam_level_2  \\\n",
      "0                      0.023984  ...               1   \n",
      "1                      0.024956  ...               1   \n",
      "2                      0.025930  ...               1   \n",
      "3                      0.026917  ...               1   \n",
      "4                      0.027358  ...               1   \n",
      "..                          ...  ...             ...   \n",
      "315                    5.087840  ...               1   \n",
      "316                    5.480450  ...               1   \n",
      "317                    5.975820  ...               1   \n",
      "318                    6.840410  ...               1   \n",
      "319                    7.407070  ...               1   \n",
      "\n",
      "      Data arrary area efficiency %   Ntwl   Ntbl   Ntspd   Ntcm  \\\n",
      "0                           13.7653      2      2     0.5      1   \n",
      "1                           16.5645      2      2     0.5      1   \n",
      "2                           19.1623      2      2     0.5      1   \n",
      "3                           21.5722      2      2     0.5      1   \n",
      "4                           23.7877      2      2     2.0      1   \n",
      "..                              ...    ...    ...     ...    ...   \n",
      "315                         84.3614     64    128    16.0      1   \n",
      "316                         85.0277     64    128    16.0      1   \n",
      "317                         86.0070    128    128    32.0      1   \n",
      "318                         86.6725    128    128    32.0      1   \n",
      "319                         87.1115    128    128    32.0      1   \n",
      "\n",
      "      Ntsam_level_1   Ntsam_level_2   Tag arrary area efficiency %     \n",
      "0                 1               1                        58.8222     \n",
      "1                 1               1                        62.1383     \n",
      "2                 1               1                        64.7554     \n",
      "3                 1               1                        66.4193     \n",
      "4                 4               1                        52.6652     \n",
      "..              ...             ...                            ... ..  \n",
      "315              16               1                        72.5821     \n",
      "316              16               1                        72.6155     \n",
      "317               8               1                        69.0495     \n",
      "318              16               1                        70.3074     \n",
      "319              16               1                        71.7069     \n",
      "\n",
      "[320 rows x 27 columns]\n"
     ]
    }
   ],
   "source": [
    "import pandas as pd\n",
    "from sklearn import svm\n",
    "from sklearn.model_selection import train_test_split\n",
    "from sklearn.preprocessing import StandardScaler\n",
    "from sklearn.metrics import accuracy_score\n",
    "from sklearn.svm import SVR\n",
    "from sklearn import metrics\n",
    "from sklearn.metrics import mean_squared_error, mean_absolute_error, r2_score\n",
    "import numpy as np\n",
    "\n",
    "data = pd.read_csv(\"tmp.cfg.out\")\n",
    "print(data)"
   ]
  },
  {
   "cell_type": "code",
   "execution_count": 2,
   "metadata": {},
   "outputs": [
    {
     "name": "stdout",
     "output_type": "stream",
     "text": [
      "Index(['Tech node (nm)', ' Capacity (bytes)', ' Number of banks',\n",
      "       ' Associativity', ' Output width (bits)', ' Access time (ns)',\n",
      "       ' Random cycle time (ns)', ' Dynamic search energy (nJ)',\n",
      "       ' Dynamic read energy (nJ)', ' Dynamic write energy (nJ)',\n",
      "       ' Standby leakage per bank(mW)', ' Area (mm2)', ' Ndwl', ' Ndbl',\n",
      "       ' Nspd', ' Ndcm', ' Ndsam_level_1', ' Ndsam_level_2',\n",
      "       ' Data arrary area efficiency %', ' Ntwl', ' Ntbl', ' Ntspd', ' Ntcm',\n",
      "       ' Ntsam_level_1', ' Ntsam_level_2', ' Tag arrary area efficiency %',\n",
      "       ' '],\n",
      "      dtype='object')\n"
     ]
    }
   ],
   "source": [
    "print(data.columns)"
   ]
  },
  {
   "cell_type": "code",
   "execution_count": 3,
   "metadata": {},
   "outputs": [],
   "source": [
    "X = data[[' Capacity (bytes)', ' Associativity', 'Tech node (nm)']]  # Features\n",
    "y = data[' Random cycle time (ns)']  # Target variable"
   ]
  },
  {
   "cell_type": "code",
   "execution_count": 4,
   "metadata": {},
   "outputs": [
    {
     "data": {
      "text/plain": [
       "0       0.314693\n",
       "1       0.317513\n",
       "2       0.320243\n",
       "3       0.314502\n",
       "4       0.316659\n",
       "         ...    \n",
       "315     8.839630\n",
       "316     9.023660\n",
       "317     9.405440\n",
       "318     9.815200\n",
       "319    10.253100\n",
       "Name:  Random cycle time (ns), Length: 320, dtype: float64"
      ]
     },
     "execution_count": 4,
     "metadata": {},
     "output_type": "execute_result"
    }
   ],
   "source": [
    "y"
   ]
  },
  {
   "cell_type": "code",
   "execution_count": 5,
   "metadata": {},
   "outputs": [],
   "source": [
    "X_train, X_test, y_train, y_test = train_test_split(X, y, test_size=0.2, random_state=42)"
   ]
  },
  {
   "cell_type": "code",
   "execution_count": 6,
   "metadata": {},
   "outputs": [
    {
     "data": {
      "text/html": [
       "<div>\n",
       "<style scoped>\n",
       "    .dataframe tbody tr th:only-of-type {\n",
       "        vertical-align: middle;\n",
       "    }\n",
       "\n",
       "    .dataframe tbody tr th {\n",
       "        vertical-align: top;\n",
       "    }\n",
       "\n",
       "    .dataframe thead th {\n",
       "        text-align: right;\n",
       "    }\n",
       "</style>\n",
       "<table border=\"1\" class=\"dataframe\">\n",
       "  <thead>\n",
       "    <tr style=\"text-align: right;\">\n",
       "      <th></th>\n",
       "      <th>Capacity (bytes)</th>\n",
       "      <th>Associativity</th>\n",
       "      <th>Tech node (nm)</th>\n",
       "    </tr>\n",
       "  </thead>\n",
       "  <tbody>\n",
       "    <tr>\n",
       "      <th>132</th>\n",
       "      <td>134217728</td>\n",
       "      <td>2</td>\n",
       "      <td>40</td>\n",
       "    </tr>\n",
       "    <tr>\n",
       "      <th>317</th>\n",
       "      <td>335544320</td>\n",
       "      <td>16</td>\n",
       "      <td>40</td>\n",
       "    </tr>\n",
       "    <tr>\n",
       "      <th>234</th>\n",
       "      <td>3145728</td>\n",
       "      <td>8</td>\n",
       "      <td>40</td>\n",
       "    </tr>\n",
       "    <tr>\n",
       "      <th>312</th>\n",
       "      <td>134217728</td>\n",
       "      <td>16</td>\n",
       "      <td>40</td>\n",
       "    </tr>\n",
       "    <tr>\n",
       "      <th>232</th>\n",
       "      <td>2097152</td>\n",
       "      <td>8</td>\n",
       "      <td>40</td>\n",
       "    </tr>\n",
       "    <tr>\n",
       "      <th>...</th>\n",
       "      <td>...</td>\n",
       "      <td>...</td>\n",
       "      <td>...</td>\n",
       "    </tr>\n",
       "    <tr>\n",
       "      <th>188</th>\n",
       "      <td>33554432</td>\n",
       "      <td>4</td>\n",
       "      <td>40</td>\n",
       "    </tr>\n",
       "    <tr>\n",
       "      <th>71</th>\n",
       "      <td>469762048</td>\n",
       "      <td>1</td>\n",
       "      <td>40</td>\n",
       "    </tr>\n",
       "    <tr>\n",
       "      <th>106</th>\n",
       "      <td>1572864</td>\n",
       "      <td>2</td>\n",
       "      <td>40</td>\n",
       "    </tr>\n",
       "    <tr>\n",
       "      <th>270</th>\n",
       "      <td>98304</td>\n",
       "      <td>16</td>\n",
       "      <td>40</td>\n",
       "    </tr>\n",
       "    <tr>\n",
       "      <th>102</th>\n",
       "      <td>786432</td>\n",
       "      <td>2</td>\n",
       "      <td>40</td>\n",
       "    </tr>\n",
       "  </tbody>\n",
       "</table>\n",
       "<p>256 rows × 3 columns</p>\n",
       "</div>"
      ],
      "text/plain": [
       "      Capacity (bytes)   Associativity  Tech node (nm)\n",
       "132          134217728               2              40\n",
       "317          335544320              16              40\n",
       "234            3145728               8              40\n",
       "312          134217728              16              40\n",
       "232            2097152               8              40\n",
       "..                 ...             ...             ...\n",
       "188           33554432               4              40\n",
       "71           469762048               1              40\n",
       "106            1572864               2              40\n",
       "270              98304              16              40\n",
       "102             786432               2              40\n",
       "\n",
       "[256 rows x 3 columns]"
      ]
     },
     "execution_count": 6,
     "metadata": {},
     "output_type": "execute_result"
    }
   ],
   "source": [
    "X_train"
   ]
  },
  {
   "cell_type": "code",
   "execution_count": 7,
   "metadata": {},
   "outputs": [],
   "source": [
    "scaler = StandardScaler()\n",
    "X_train = scaler.fit_transform(X_train)\n",
    "X_test = scaler.transform(X_test)   "
   ]
  },
  {
   "cell_type": "code",
   "execution_count": 13,
   "metadata": {},
   "outputs": [],
   "source": [
    "svm = SVR(kernel='rbf', C=10, gamma=0.1, epsilon=.1)\n",
    "# clf = svm.SVC(kernel='linear') # Linear Kernel\n",
    "\n",
    "#Train the model using the training sets\n",
    "svm.fit(X_train, y_train)\n",
    "\n",
    "#Predict the response for test dataset\n",
    "y_pred = svm.predict(X_test)"
   ]
  },
  {
   "cell_type": "code",
   "execution_count": 9,
   "metadata": {},
   "outputs": [],
   "source": [
    "# svm.fit(X_train, y_train)\n",
    "# y_pred = svm.predict(y_train)"
   ]
  },
  {
   "cell_type": "code",
   "execution_count": 15,
   "metadata": {},
   "outputs": [
    {
     "name": "stdout",
     "output_type": "stream",
     "text": [
      "Mean Squared Error: 3.7767358282367245\n",
      "Root Mean Squared Error: 1.9433825738224382\n",
      "Mean Absolute Error: 1.1747928067276434\n",
      "R-squared: 0.3454521634290877\n"
     ]
    }
   ],
   "source": [
    "# Mean Squared Error\n",
    "mse = mean_squared_error(y_test, y_pred)\n",
    "print(\"Mean Squared Error:\", mse)\n",
    "\n",
    "# Root Mean Squared Error\n",
    "rmse = np.sqrt(mse)\n",
    "print(\"Root Mean Squared Error:\", rmse)\n",
    "\n",
    "# Mean Absolute Error\n",
    "mae = mean_absolute_error(y_test, y_pred)\n",
    "print(\"Mean Absolute Error:\", mae)\n",
    "\n",
    "# R-squared\n",
    "r2 = r2_score(y_test, y_pred)\n",
    "print(\"R-squared:\", r2)"
   ]
  },
  {
   "cell_type": "code",
   "execution_count": 11,
   "metadata": {},
   "outputs": [],
   "source": [
    "import matplotlib.pyplot as plt"
   ]
  },
  {
   "cell_type": "code",
   "execution_count": 12,
   "metadata": {},
   "outputs": [
    {
     "ename": "ValueError",
     "evalue": "x and y must be the same size",
     "output_type": "error",
     "traceback": [
      "\u001b[0;31m---------------------------------------------------------------------------\u001b[0m",
      "\u001b[0;31mValueError\u001b[0m                                Traceback (most recent call last)",
      "\u001b[1;32m/mldata/CS254_FINAL_PROJECT/cacti_svm.ipynb Cell 13\u001b[0m line \u001b[0;36m1\n\u001b[0;32m----> <a href='vscode-notebook-cell://ssh-remote%2Bmllab09.ece.ucsb.edu/mldata/CS254_FINAL_PROJECT/cacti_svm.ipynb#X14sdnNjb2RlLXJlbW90ZQ%3D%3D?line=0'>1</a>\u001b[0m plt\u001b[39m.\u001b[39;49mscatter(X, y, color\u001b[39m=\u001b[39;49m\u001b[39m'\u001b[39;49m\u001b[39mdarkorange\u001b[39;49m\u001b[39m'\u001b[39;49m, \n\u001b[1;32m      <a href='vscode-notebook-cell://ssh-remote%2Bmllab09.ece.ucsb.edu/mldata/CS254_FINAL_PROJECT/cacti_svm.ipynb#X14sdnNjb2RlLXJlbW90ZQ%3D%3D?line=1'>2</a>\u001b[0m             label\u001b[39m=\u001b[39;49m\u001b[39m'\u001b[39;49m\u001b[39mdata\u001b[39;49m\u001b[39m'\u001b[39;49m) \n\u001b[1;32m      <a href='vscode-notebook-cell://ssh-remote%2Bmllab09.ece.ucsb.edu/mldata/CS254_FINAL_PROJECT/cacti_svm.ipynb#X14sdnNjb2RlLXJlbW90ZQ%3D%3D?line=2'>3</a>\u001b[0m plt\u001b[39m.\u001b[39mplot(X, y_pred, color\u001b[39m=\u001b[39m\u001b[39m'\u001b[39m\u001b[39mcornflowerblue\u001b[39m\u001b[39m'\u001b[39m, \n\u001b[1;32m      <a href='vscode-notebook-cell://ssh-remote%2Bmllab09.ece.ucsb.edu/mldata/CS254_FINAL_PROJECT/cacti_svm.ipynb#X14sdnNjb2RlLXJlbW90ZQ%3D%3D?line=3'>4</a>\u001b[0m          label\u001b[39m=\u001b[39m\u001b[39m'\u001b[39m\u001b[39mprediction\u001b[39m\u001b[39m'\u001b[39m) \n\u001b[1;32m      <a href='vscode-notebook-cell://ssh-remote%2Bmllab09.ece.ucsb.edu/mldata/CS254_FINAL_PROJECT/cacti_svm.ipynb#X14sdnNjb2RlLXJlbW90ZQ%3D%3D?line=4'>5</a>\u001b[0m plt\u001b[39m.\u001b[39mlegend() \n",
      "File \u001b[0;32m~/.local/lib/python3.9/site-packages/matplotlib/pyplot.py:3687\u001b[0m, in \u001b[0;36mscatter\u001b[0;34m(x, y, s, c, marker, cmap, norm, vmin, vmax, alpha, linewidths, edgecolors, plotnonfinite, data, **kwargs)\u001b[0m\n\u001b[1;32m   3668\u001b[0m \u001b[39m@_copy_docstring_and_deprecators\u001b[39m(Axes\u001b[39m.\u001b[39mscatter)\n\u001b[1;32m   3669\u001b[0m \u001b[39mdef\u001b[39;00m \u001b[39mscatter\u001b[39m(\n\u001b[1;32m   3670\u001b[0m     x: \u001b[39mfloat\u001b[39m \u001b[39m|\u001b[39m ArrayLike,\n\u001b[0;32m   (...)\u001b[0m\n\u001b[1;32m   3685\u001b[0m     \u001b[39m*\u001b[39m\u001b[39m*\u001b[39mkwargs,\n\u001b[1;32m   3686\u001b[0m ) \u001b[39m-\u001b[39m\u001b[39m>\u001b[39m PathCollection:\n\u001b[0;32m-> 3687\u001b[0m     __ret \u001b[39m=\u001b[39m gca()\u001b[39m.\u001b[39;49mscatter(\n\u001b[1;32m   3688\u001b[0m         x,\n\u001b[1;32m   3689\u001b[0m         y,\n\u001b[1;32m   3690\u001b[0m         s\u001b[39m=\u001b[39;49ms,\n\u001b[1;32m   3691\u001b[0m         c\u001b[39m=\u001b[39;49mc,\n\u001b[1;32m   3692\u001b[0m         marker\u001b[39m=\u001b[39;49mmarker,\n\u001b[1;32m   3693\u001b[0m         cmap\u001b[39m=\u001b[39;49mcmap,\n\u001b[1;32m   3694\u001b[0m         norm\u001b[39m=\u001b[39;49mnorm,\n\u001b[1;32m   3695\u001b[0m         vmin\u001b[39m=\u001b[39;49mvmin,\n\u001b[1;32m   3696\u001b[0m         vmax\u001b[39m=\u001b[39;49mvmax,\n\u001b[1;32m   3697\u001b[0m         alpha\u001b[39m=\u001b[39;49malpha,\n\u001b[1;32m   3698\u001b[0m         linewidths\u001b[39m=\u001b[39;49mlinewidths,\n\u001b[1;32m   3699\u001b[0m         edgecolors\u001b[39m=\u001b[39;49medgecolors,\n\u001b[1;32m   3700\u001b[0m         plotnonfinite\u001b[39m=\u001b[39;49mplotnonfinite,\n\u001b[1;32m   3701\u001b[0m         \u001b[39m*\u001b[39;49m\u001b[39m*\u001b[39;49m({\u001b[39m\"\u001b[39;49m\u001b[39mdata\u001b[39;49m\u001b[39m\"\u001b[39;49m: data} \u001b[39mif\u001b[39;49;00m data \u001b[39mis\u001b[39;49;00m \u001b[39mnot\u001b[39;49;00m \u001b[39mNone\u001b[39;49;00m \u001b[39melse\u001b[39;49;00m {}),\n\u001b[1;32m   3702\u001b[0m         \u001b[39m*\u001b[39;49m\u001b[39m*\u001b[39;49mkwargs,\n\u001b[1;32m   3703\u001b[0m     )\n\u001b[1;32m   3704\u001b[0m     sci(__ret)\n\u001b[1;32m   3705\u001b[0m     \u001b[39mreturn\u001b[39;00m __ret\n",
      "File \u001b[0;32m~/.local/lib/python3.9/site-packages/matplotlib/__init__.py:1465\u001b[0m, in \u001b[0;36m_preprocess_data.<locals>.inner\u001b[0;34m(ax, data, *args, **kwargs)\u001b[0m\n\u001b[1;32m   1462\u001b[0m \u001b[39m@functools\u001b[39m\u001b[39m.\u001b[39mwraps(func)\n\u001b[1;32m   1463\u001b[0m \u001b[39mdef\u001b[39;00m \u001b[39minner\u001b[39m(ax, \u001b[39m*\u001b[39margs, data\u001b[39m=\u001b[39m\u001b[39mNone\u001b[39;00m, \u001b[39m*\u001b[39m\u001b[39m*\u001b[39mkwargs):\n\u001b[1;32m   1464\u001b[0m     \u001b[39mif\u001b[39;00m data \u001b[39mis\u001b[39;00m \u001b[39mNone\u001b[39;00m:\n\u001b[0;32m-> 1465\u001b[0m         \u001b[39mreturn\u001b[39;00m func(ax, \u001b[39m*\u001b[39;49m\u001b[39mmap\u001b[39;49m(sanitize_sequence, args), \u001b[39m*\u001b[39;49m\u001b[39m*\u001b[39;49mkwargs)\n\u001b[1;32m   1467\u001b[0m     bound \u001b[39m=\u001b[39m new_sig\u001b[39m.\u001b[39mbind(ax, \u001b[39m*\u001b[39margs, \u001b[39m*\u001b[39m\u001b[39m*\u001b[39mkwargs)\n\u001b[1;32m   1468\u001b[0m     auto_label \u001b[39m=\u001b[39m (bound\u001b[39m.\u001b[39marguments\u001b[39m.\u001b[39mget(label_namer)\n\u001b[1;32m   1469\u001b[0m                   \u001b[39mor\u001b[39;00m bound\u001b[39m.\u001b[39mkwargs\u001b[39m.\u001b[39mget(label_namer))\n",
      "File \u001b[0;32m~/.local/lib/python3.9/site-packages/matplotlib/axes/_axes.py:4652\u001b[0m, in \u001b[0;36mAxes.scatter\u001b[0;34m(self, x, y, s, c, marker, cmap, norm, vmin, vmax, alpha, linewidths, edgecolors, plotnonfinite, **kwargs)\u001b[0m\n\u001b[1;32m   4650\u001b[0m y \u001b[39m=\u001b[39m np\u001b[39m.\u001b[39mma\u001b[39m.\u001b[39mravel(y)\n\u001b[1;32m   4651\u001b[0m \u001b[39mif\u001b[39;00m x\u001b[39m.\u001b[39msize \u001b[39m!=\u001b[39m y\u001b[39m.\u001b[39msize:\n\u001b[0;32m-> 4652\u001b[0m     \u001b[39mraise\u001b[39;00m \u001b[39mValueError\u001b[39;00m(\u001b[39m\"\u001b[39m\u001b[39mx and y must be the same size\u001b[39m\u001b[39m\"\u001b[39m)\n\u001b[1;32m   4654\u001b[0m \u001b[39mif\u001b[39;00m s \u001b[39mis\u001b[39;00m \u001b[39mNone\u001b[39;00m:\n\u001b[1;32m   4655\u001b[0m     s \u001b[39m=\u001b[39m (\u001b[39m20\u001b[39m \u001b[39mif\u001b[39;00m mpl\u001b[39m.\u001b[39mrcParams[\u001b[39m'\u001b[39m\u001b[39m_internal.classic_mode\u001b[39m\u001b[39m'\u001b[39m] \u001b[39melse\u001b[39;00m\n\u001b[1;32m   4656\u001b[0m          mpl\u001b[39m.\u001b[39mrcParams[\u001b[39m'\u001b[39m\u001b[39mlines.markersize\u001b[39m\u001b[39m'\u001b[39m] \u001b[39m*\u001b[39m\u001b[39m*\u001b[39m \u001b[39m2.0\u001b[39m)\n",
      "\u001b[0;31mValueError\u001b[0m: x and y must be the same size"
     ]
    },
    {
     "data": {
      "image/png": "[encoded data removed]",
      "text/plain": [
       "<Figure size 640x480 with 1 Axes>"
      ]
     },
     "metadata": {},
     "output_type": "display_data"
    }
   ],
   "source": [
    "plt.scatter(X, y, color='darkorange', \n",
    "            label='data') \n",
    "plt.plot(X, y_pred, color='cornflowerblue', \n",
    "         label='prediction') \n",
    "plt.legend() \n",
    "plt.show() "
   ]
  }
 ],
 "metadata": {
  "kernelspec": {
   "display_name": "myenv",
   "language": "python",
   "name": "myenv"
  },
  "language_info": {
   "codemirror_mode": {
    "name": "ipython",
    "version": 3
   },
   "file_extension": ".py",
   "mimetype": "text/x-python",
   "name": "python",
   "nbconvert_exporter": "python",
   "pygments_lexer": "ipython3",
   "version": "3.9.5"
  }
 },
 "nbformat": 4,
 "nbformat_minor": 2
}
