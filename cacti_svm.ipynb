{
 "cells": [
  {
   "cell_type": "code",
   "execution_count": null,
   "metadata": {},
   "outputs": [
    {
     "ename": "",
     "evalue": "",
     "output_type": "error",
     "traceback": [
      "\u001b[1;31mRunning cells with '/bin/python3' requires the ipykernel package.\n",
      "\u001b[1;31mRun the following command to install 'ipykernel' into the Python environment. \n",
      "\u001b[1;31mCommand: '/bin/python3 -m pip install ipykernel -U --user --force-reinstall'"
     ]
    }
   ],
   "source": []
  },
  {
   "cell_type": "code",
   "execution_count": 21,
   "metadata": {},
   "outputs": [
    {
     "name": "stdout",
     "output_type": "stream",
     "text": [
      "     Tech node (nm)   Capacity (bytes)   Number of banks   Associativity  \\\n",
      "0                32               2048                 1               1   \n",
      "1                32               2560                 1               1   \n",
      "2                32               3072                 1               1   \n",
      "3                32               3584                 1               1   \n",
      "4                32               4096                 1               1   \n",
      "..              ...                ...               ...             ...   \n",
      "579              32          234881024                 1         3670016   \n",
      "580              32          268435456                 1         4194304   \n",
      "581              32          335544320                 1         5242880   \n",
      "582              32          402653184                 1         6291456   \n",
      "583              32          469762048                 1         7340032   \n",
      "\n",
      "      Output width (bits)   Access time (ns)   Random cycle time (ns)  \\\n",
      "0                     512           0.173814                 0.255745   \n",
      "1                     512           0.177702                 0.258148   \n",
      "2                     512           0.176150                 0.254056   \n",
      "3                     512           0.178265                 0.255820   \n",
      "4                     512           0.189490                 0.257631   \n",
      "..                    ...                ...                      ...   \n",
      "579                   512         176.126000               312.838000   \n",
      "580                   512         218.732000               403.799000   \n",
      "581                   512         317.371000               620.502000   \n",
      "582                   512         434.019000               883.583000   \n",
      "583                   512         568.676000              1193.040000   \n",
      "\n",
      "     Dynamic search energy (nJ)   Dynamic read energy (nJ)  \\\n",
      "0                           N/A                   0.014602   \n",
      "1                           N/A                   0.014715   \n",
      "2                           N/A                   0.014837   \n",
      "3                           N/A                   0.015077   \n",
      "4                           N/A                   0.015344   \n",
      "..                          ...                        ...   \n",
      "579                      172.97                   9.299720   \n",
      "580                     197.344                  10.524800   \n",
      "581                     246.039                  12.926000   \n",
      "582                     294.734                  15.327100   \n",
      "583                     343.429                  17.728300   \n",
      "\n",
      "      Dynamic write energy (nJ)  ...   Ndsam_level_2  \\\n",
      "0                      0.016366  ...               1   \n",
      "1                      0.017025  ...               1   \n",
      "2                      0.017694  ...               1   \n",
      "3                      0.018121  ...               1   \n",
      "4                      0.018633  ...               1   \n",
      "..                          ...  ...             ...   \n",
      "579                   11.068000  ...               1   \n",
      "580                   12.545800  ...               1   \n",
      "581                   15.452300  ...               1   \n",
      "582                   18.358800  ...               1   \n",
      "583                   21.265300  ...               1   \n",
      "\n",
      "      Data arrary area efficiency %   Ntwl   Ntbl   Ntspd   Ntcm  \\\n",
      "0                           13.6847      2      2     0.5      1   \n",
      "1                           16.4711      2      2     0.5      1   \n",
      "2                           19.0512      2      2     0.5      1   \n",
      "3                           21.4563      2      2       1      1   \n",
      "4                           23.6659      2      2       2      1   \n",
      "..                              ...    ...    ...     ...    ...   \n",
      "579                         71.9784    N/A    N/A     N/A    N/A   \n",
      "580                         71.1230    N/A    N/A     N/A    N/A   \n",
      "581                         71.3606    N/A    N/A     N/A    N/A   \n",
      "582                         71.5200    N/A    N/A     N/A    N/A   \n",
      "583                         71.6342    N/A    N/A     N/A    N/A   \n",
      "\n",
      "      Ntsam_level_1   Ntsam_level_2   Tag arrary area efficiency %     \n",
      "0                 1               1                        58.5224     \n",
      "1                 1               1                        62.0793     \n",
      "2                 1               1                        64.3237     \n",
      "3                 2               1                        60.6502     \n",
      "4                 4               1                        52.5174     \n",
      "..              ...             ...                            ... ..  \n",
      "579             N/A             N/A                            N/A     \n",
      "580             N/A             N/A                            N/A     \n",
      "581             N/A             N/A                            N/A     \n",
      "582             N/A             N/A                            N/A     \n",
      "583             N/A             N/A                            N/A     \n",
      "\n",
      "[584 rows x 27 columns]\n"
     ]
    }
   ],
   "source": [
    "import pandas as pd\n",
    "from sklearn import svm\n",
    "from sklearn.model_selection import train_test_split\n",
    "from sklearn.preprocessing import StandardScaler\n",
    "from sklearn.metrics import accuracy_score\n",
    "from sklearn.svm import SVC\n",
    "\n",
    "data = pd.read_csv(\"automate.out\")\n",
    "print(data)"
   ]
  },
  {
   "cell_type": "code",
   "execution_count": 5,
   "metadata": {},
   "outputs": [
    {
     "name": "stdout",
     "output_type": "stream",
     "text": [
      "Index(['Tech node (nm)', ' Capacity (bytes)', ' Number of banks',\n",
      "       ' Associativity', ' Output width (bits)', ' Access time (ns)',\n",
      "       ' Random cycle time (ns)', ' Dynamic search energy (nJ)',\n",
      "       ' Dynamic read energy (nJ)', ' Dynamic write energy (nJ)',\n",
      "       ' Standby leakage per bank(mW)', ' Area (mm2)', ' Ndwl', ' Ndbl',\n",
      "       ' Nspd', ' Ndcm', ' Ndsam_level_1', ' Ndsam_level_2',\n",
      "       ' Data arrary area efficiency %', ' Ntwl', ' Ntbl', ' Ntspd', ' Ntcm',\n",
      "       ' Ntsam_level_1', ' Ntsam_level_2', ' Tag arrary area efficiency %',\n",
      "       ' '],\n",
      "      dtype='object')\n"
     ]
    }
   ],
   "source": [
    "print(data.columns)"
   ]
  },
  {
   "cell_type": "code",
   "execution_count": 11,
   "metadata": {},
   "outputs": [],
   "source": [
    "X = data[[' Capacity (bytes)', ' Associativity', 'Tech node (nm)']]  # Features\n",
    "y = data[' Random cycle time (ns)']  # Target variable"
   ]
  },
  {
   "cell_type": "code",
   "execution_count": 13,
   "metadata": {},
   "outputs": [
    {
     "data": {
      "text/plain": [
       "0         0.255745\n",
       "1         0.258148\n",
       "2         0.254056\n",
       "3         0.255820\n",
       "4         0.257631\n",
       "          ...     \n",
       "579     312.838000\n",
       "580     403.799000\n",
       "581     620.502000\n",
       "582     883.583000\n",
       "583    1193.040000\n",
       "Name:  Random cycle time (ns), Length: 584, dtype: float64"
      ]
     },
     "execution_count": 13,
     "metadata": {},
     "output_type": "execute_result"
    }
   ],
   "source": [
    "y"
   ]
  },
  {
   "cell_type": "code",
   "execution_count": 14,
   "metadata": {},
   "outputs": [],
   "source": [
    "X_train, X_test, y_train, y_test = train_test_split(X, y, test_size=0.2, random_state=42)"
   ]
  },
  {
   "cell_type": "code",
   "execution_count": 15,
   "metadata": {},
   "outputs": [
    {
     "data": {
      "text/html": [
       "<div>\n",
       "<style scoped>\n",
       "    .dataframe tbody tr th:only-of-type {\n",
       "        vertical-align: middle;\n",
       "    }\n",
       "\n",
       "    .dataframe tbody tr th {\n",
       "        vertical-align: top;\n",
       "    }\n",
       "\n",
       "    .dataframe thead th {\n",
       "        text-align: right;\n",
       "    }\n",
       "</style>\n",
       "<table border=\"1\" class=\"dataframe\">\n",
       "  <thead>\n",
       "    <tr style=\"text-align: right;\">\n",
       "      <th></th>\n",
       "      <th>Capacity (bytes)</th>\n",
       "      <th>Associativity</th>\n",
       "      <th>Tech node (nm)</th>\n",
       "    </tr>\n",
       "  </thead>\n",
       "  <tbody>\n",
       "    <tr>\n",
       "      <th>77</th>\n",
       "      <td>335544320</td>\n",
       "      <td>1</td>\n",
       "      <td>32</td>\n",
       "    </tr>\n",
       "    <tr>\n",
       "      <th>436</th>\n",
       "      <td>1048576</td>\n",
       "      <td>128</td>\n",
       "      <td>32</td>\n",
       "    </tr>\n",
       "    <tr>\n",
       "      <th>211</th>\n",
       "      <td>469762048</td>\n",
       "      <td>4</td>\n",
       "      <td>32</td>\n",
       "    </tr>\n",
       "    <tr>\n",
       "      <th>192</th>\n",
       "      <td>16777216</td>\n",
       "      <td>4</td>\n",
       "      <td>32</td>\n",
       "    </tr>\n",
       "    <tr>\n",
       "      <th>450</th>\n",
       "      <td>12582912</td>\n",
       "      <td>128</td>\n",
       "      <td>32</td>\n",
       "    </tr>\n",
       "    <tr>\n",
       "      <th>...</th>\n",
       "      <td>...</td>\n",
       "      <td>...</td>\n",
       "      <td>...</td>\n",
       "    </tr>\n",
       "    <tr>\n",
       "      <th>71</th>\n",
       "      <td>117440512</td>\n",
       "      <td>1</td>\n",
       "      <td>32</td>\n",
       "    </tr>\n",
       "    <tr>\n",
       "      <th>106</th>\n",
       "      <td>393216</td>\n",
       "      <td>2</td>\n",
       "      <td>32</td>\n",
       "    </tr>\n",
       "    <tr>\n",
       "      <th>270</th>\n",
       "      <td>402653184</td>\n",
       "      <td>8</td>\n",
       "      <td>32</td>\n",
       "    </tr>\n",
       "    <tr>\n",
       "      <th>435</th>\n",
       "      <td>917504</td>\n",
       "      <td>128</td>\n",
       "      <td>32</td>\n",
       "    </tr>\n",
       "    <tr>\n",
       "      <th>102</th>\n",
       "      <td>196608</td>\n",
       "      <td>2</td>\n",
       "      <td>32</td>\n",
       "    </tr>\n",
       "  </tbody>\n",
       "</table>\n",
       "<p>467 rows × 3 columns</p>\n",
       "</div>"
      ],
      "text/plain": [
       "      Capacity (bytes)   Associativity  Tech node (nm)\n",
       "77           335544320               1              32\n",
       "436            1048576             128              32\n",
       "211          469762048               4              32\n",
       "192           16777216               4              32\n",
       "450           12582912             128              32\n",
       "..                 ...             ...             ...\n",
       "71           117440512               1              32\n",
       "106             393216               2              32\n",
       "270          402653184               8              32\n",
       "435             917504             128              32\n",
       "102             196608               2              32\n",
       "\n",
       "[467 rows x 3 columns]"
      ]
     },
     "execution_count": 15,
     "metadata": {},
     "output_type": "execute_result"
    }
   ],
   "source": [
    "X_train"
   ]
  },
  {
   "cell_type": "code",
   "execution_count": 19,
   "metadata": {},
   "outputs": [],
   "source": [
    "scaler = StandardScaler()\n",
    "X_train = scaler.fit_transform(X_train)\n",
    "X_test = scaler.transform(X_test)   "
   ]
  },
  {
   "cell_type": "code",
   "execution_count": 23,
   "metadata": {},
   "outputs": [],
   "source": [
    "# svm = SVC(kernel='linear', C=1.0, random_state=42)"
   ]
  },
  {
   "cell_type": "code",
   "execution_count": null,
   "metadata": {},
   "outputs": [],
   "source": [
    "svm.fit(X_train, y_train)\n",
    "y_pred = svm.predict(y_train)"
   ]
  }
 ],
 "metadata": {
  "kernelspec": {
   "display_name": "myenv",
   "language": "python",
   "name": "myenv"
  },
  "language_info": {
   "codemirror_mode": {
    "name": "ipython",
    "version": 3
   },
   "file_extension": ".py",
   "mimetype": "text/x-python",
   "name": "python",
   "nbconvert_exporter": "python",
   "pygments_lexer": "ipython3",
   "version": "3.9.5"
  }
 },
 "nbformat": 4,
 "nbformat_minor": 2
}
